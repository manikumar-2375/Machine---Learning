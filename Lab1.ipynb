{
  "nbformat": 4,
  "nbformat_minor": 0,
  "metadata": {
    "colab": {
      "provenance": [],
      "collapsed_sections": [],
      "authorship_tag": "ABX9TyOD+wSyBI5OSzizx7dLc1bP",
      "include_colab_link": true
    },
    "kernelspec": {
      "name": "python3",
      "display_name": "Python 3"
    },
    "language_info": {
      "name": "python"
    }
  },
  "cells": [
    {
      "cell_type": "markdown",
      "metadata": {
        "id": "view-in-github",
        "colab_type": "text"
      },
      "source": [
        "<a href=\"https://colab.research.google.com/github/manikumar-2375/Machine---Learning/blob/main/Lab1.ipynb\" target=\"_parent\"><img src=\"https://colab.research.google.com/assets/colab-badge.svg\" alt=\"Open In Colab\"/></a>"
      ]
    },
    {
      "cell_type": "code",
      "execution_count": null,
      "metadata": {
        "colab": {
          "base_uri": "https://localhost:8080/"
        },
        "id": "--qX-WJbe2vV",
        "outputId": "ceb39ca6-d22c-4b1b-c1eb-95944a5e0fc0"
      },
      "outputs": [
        {
          "output_type": "stream",
          "name": "stdout",
          "text": [
            "hello\n"
          ]
        }
      ],
      "source": [
        "print(\"hello\")"
      ]
    },
    {
      "cell_type": "code",
      "source": [
        "print (2+3)\n",
        "a=20\n",
        "print (a)\n",
        "print (type(a))\n",
        "a=\"hello\"\n",
        "print (len(a))"
      ],
      "metadata": {
        "colab": {
          "base_uri": "https://localhost:8080/"
        },
        "id": "X_UQ1Bp_fv7X",
        "outputId": "491989c4-e4d7-443c-c0df-bb3b9dba77db"
      },
      "execution_count": null,
      "outputs": [
        {
          "output_type": "stream",
          "name": "stdout",
          "text": [
            "5\n",
            "20\n",
            "<class 'int'>\n",
            "5\n"
          ]
        }
      ]
    },
    {
      "cell_type": "code",
      "source": [
        "x = 3\n",
        "print (type(x)) # Prints \"<type 'int'>\"\n",
        "print (x) # Prints \"3\"\n",
        "print (x + 1 ) # Addition; prints \"4\"\n",
        "print (x - 1 ) # Subtraction; prints \"2\"\n",
        "print (x * 2) # Multiplication; prints \"6\"\n",
        "print (x ** 2) # Exponentiation; prints \"9\"\n",
        "x += 1\n",
        "print (x) # Prints \"4\"\n",
        "x *= 2\n",
        "print (x ) # Prints \"8\"\n",
        "y = 2.5\n",
        "print (type(y)) # Prints \"<type 'float'>\"\n",
        "print (y, y + 1, y * 2, y ** 2)"
      ],
      "metadata": {
        "colab": {
          "base_uri": "https://localhost:8080/"
        },
        "id": "8deYcr-ggc11",
        "outputId": "b2988bce-d529-4b98-bb78-25416644ff6b"
      },
      "execution_count": null,
      "outputs": [
        {
          "output_type": "stream",
          "name": "stdout",
          "text": [
            "<class 'int'>\n",
            "3\n",
            "4\n",
            "2\n",
            "6\n",
            "9\n",
            "4\n",
            "8\n",
            "<class 'float'>\n",
            "2.5 3.5 5.0 6.25\n"
          ]
        }
      ]
    },
    {
      "cell_type": "code",
      "source": [
        "s = \"hello\"\n",
        "print (s.capitalize()) # Capitalize a string; prints \"Hello\"\n",
        "2\n",
        "print (s.upper()) # Convert a string to uppercase; prints \"HELLO\"\n",
        "print (s.rjust(7)) # Right-justify a string, padding with spaces; prints \" helloprint (s.center(7)) # Center a string, padding with spaces; prints \" hello \"\n",
        "print (s.replace('l', '(ell)')) # Replace all instances of one substring with another# prints \"he(ell)(ell)o\"\n",
        "print( ' world '.strip()) # Strip leading and trailing whitespace; prints \"world\"\n"
      ],
      "metadata": {
        "colab": {
          "base_uri": "https://localhost:8080/"
        },
        "id": "X6QUpAmfgy3Z",
        "outputId": "b66d423c-707f-48f6-e494-db6e1518ce02"
      },
      "execution_count": null,
      "outputs": [
        {
          "output_type": "stream",
          "name": "stdout",
          "text": [
            "Hello\n",
            "HELLO\n",
            "  hello\n",
            "he(ell)(ell)o\n",
            "world\n"
          ]
        }
      ]
    },
    {
      "cell_type": "code",
      "source": [
        "a=int(input(\"Enter a number: \")) #Read input from user\n",
        "#Condition\n",
        "if a>10:\n",
        "  print (\"Number is greater than 10\")\n",
        "else:\n",
        "  print (\"Number is less than 10\")"
      ],
      "metadata": {
        "colab": {
          "base_uri": "https://localhost:8080/"
        },
        "id": "Jw1FyxBBjVYg",
        "outputId": "56e51384-3f09-4f54-f572-b8b9b6bfeb72"
      },
      "execution_count": null,
      "outputs": [
        {
          "output_type": "stream",
          "name": "stdout",
          "text": [
            "Enter a number: 10\n",
            "Number is less than 10\n"
          ]
        }
      ]
    },
    {
      "cell_type": "code",
      "source": [
        "name=input(\"Enter name\")\n",
        "print (\"Hello \"+name)"
      ],
      "metadata": {
        "colab": {
          "base_uri": "https://localhost:8080/"
        },
        "id": "aXqAzlMSkCMl",
        "outputId": "0749cc9d-c873-4f8f-c9f4-77849e9a2d40"
      },
      "execution_count": null,
      "outputs": [
        {
          "output_type": "stream",
          "name": "stdout",
          "text": [
            "Enter nameyoo\n",
            "Hello yoo\n"
          ]
        }
      ]
    },
    {
      "cell_type": "code",
      "source": [
        "a=range(1,25)\n",
        "a[2:5]\n",
        "a[-1]\n",
        "a[1:5:2]\n",
        "a[-3:-1]\n",
        "a[:]\n",
        "a[::]\n",
        "a[::2]\n",
        "a[::-1]"
      ],
      "metadata": {
        "colab": {
          "base_uri": "https://localhost:8080/"
        },
        "id": "K-KzmsqCnYKc",
        "outputId": "520a42b6-c309-4dd0-ddc8-3920aed88214"
      },
      "execution_count": 14,
      "outputs": [
        {
          "output_type": "execute_result",
          "data": {
            "text/plain": [
              "range(24, 0, -1)"
            ]
          },
          "metadata": {},
          "execution_count": 14
        }
      ]
    },
    {
      "cell_type": "code",
      "source": [],
      "metadata": {
        "id": "CdDNxCQofS1w"
      },
      "execution_count": null,
      "outputs": []
    }
  ]
}